{
 "cells": [
  {
   "cell_type": "code",
   "execution_count": 12,
   "id": "3ceec315-7fc4-4ec7-8e6e-c9abc18d3b0e",
   "metadata": {},
   "outputs": [
    {
     "name": "stdout",
     "output_type": "stream",
     "text": [
      "\n",
      "# conda environments:\n",
      "#\n",
      "base                   /home/ec2-user/anaconda3\n",
      "JupyterSystemEnv       /home/ec2-user/anaconda3/envs/JupyterSystemEnv\n",
      "R                      /home/ec2-user/anaconda3/envs/R\n",
      "python3              * /home/ec2-user/anaconda3/envs/python3\n",
      "pytorch_p310           /home/ec2-user/anaconda3/envs/pytorch_p310\n",
      "tensorflow2_p310       /home/ec2-user/anaconda3/envs/tensorflow2_p310\n",
      "\n"
     ]
    }
   ],
   "source": [
    "!conda env list"
   ]
  },
  {
   "cell_type": "code",
   "execution_count": 26,
   "id": "ed905d3e-87d1-4122-b2c3-14abab6af6b8",
   "metadata": {},
   "outputs": [],
   "source": [
    "import xml.etree.ElementTree as ET, os, glob\n",
    "from shapely.geometry import Polygon\n",
    "from concurrent.futures import ProcessPoolExecutor\n",
    "from scipy.spatial.distance import pdist\n",
    "import numpy as np, pandas as pd, tiffslide as ts, matplotlib.pyplot as plt, time, seaborn as sns\n",
    "from skimage.measure import label, regionprops, regionprops_table\n",
    "from read_labels import read_ome"
   ]
  },
  {
   "cell_type": "code",
   "execution_count": 2,
   "id": "fde5077a-0e0b-4509-9c4f-cda95b00ce21",
   "metadata": {},
   "outputs": [],
   "source": [
    "# Helper function to compute centroid from a region\n",
    "def compute_centroid(regions):\n",
    "    centroids = []\n",
    "    \n",
    "    for region in regions:\n",
    "        vertices = []\n",
    "        for vertex in region.find(\".//Vertices\").findall(\"Vertex\"):\n",
    "            x = int(vertex.attrib['X'])\n",
    "            y = int(vertex.attrib['Y'])\n",
    "            vertices.append((x, y))\n",
    "        if len(vertices) >= 3:\n",
    "            poly = Polygon(vertices)\n",
    "            centroids.append(poly.centroid)\n",
    "        \n",
    "    return centroids"
   ]
  },
  {
   "cell_type": "code",
   "execution_count": 28,
   "id": "37d24f63-9096-4923-b16a-ce34aaad42f0",
   "metadata": {},
   "outputs": [
    {
     "name": "stdout",
     "output_type": "stream",
     "text": [
      "Average centroid distance: 33868.18919223864\n",
      "31.672707080841064\n"
     ]
    }
   ],
   "source": [
    "from itertools import combinations\n",
    "start = time.time()\n",
    "tree = ET.parse(\"hubmap-data/Healthy-data/91647.xml\")\n",
    "root = tree.getroot()\n",
    "regions = root.findall(\".//Region\")\n",
    "\n",
    "# Parallel centroid computation\n",
    "centroids = compute_centroid(regions)\n",
    "\n",
    "# Filter valid centroids\n",
    "# centroids = [r for r in results if r is not None]\n",
    "\n",
    "# Compute pairwise distances using scipy\n",
    "if centroids:\n",
    "    centroids_array = np.array([(p.x, p.y) for p in centroids])\n",
    "    distances = pdist(centroids_array)  # Efficient condensed distance matrix\n",
    "    average_distance = distances.mean()\n",
    "    print(f\"Average centroid distance: {average_distance}\")\n",
    "    print(time.time() - start)"
   ]
  },
  {
   "cell_type": "code",
   "execution_count": 7,
   "id": "9d67fc09-2ec7-432c-85ae-5d08730b9194",
   "metadata": {},
   "outputs": [
    {
     "name": "stdout",
     "output_type": "stream",
     "text": [
      "Average centroid distance: 39628.40592183726\n",
      "hubmap-data/Healthy-data/91726.xml_done\n",
      "Average centroid distance: 27973.690055030744\n",
      "hubmap-data/Healthy-data/91720.xml_done\n",
      "Average centroid distance: 33187.937405658784\n",
      "hubmap-data/Healthy-data/91710.xml_done\n",
      "Average centroid distance: 42643.15276718033\n",
      "hubmap-data/Healthy-data/H19-04732_1B1_PAS.xml_done\n",
      "Average centroid distance: 40484.77415790696\n",
      "hubmap-data/Healthy-data/H19-12283_1E1_PAS.xml_done\n",
      "Average centroid distance: 32814.34914288059\n",
      "hubmap-data/Healthy-data/91728.xml_done\n",
      "Average centroid distance: 41179.93979058166\n",
      "hubmap-data/Healthy-data/91730.xml_done\n",
      "Average centroid distance: 39480.18813751571\n",
      "hubmap-data/Healthy-data/91716.xml_done\n",
      "Average centroid distance: 32951.180481992895\n",
      "hubmap-data/Healthy-data/91651.xml_done\n",
      "Average centroid distance: 22737.66024447942\n",
      "hubmap-data/Healthy-data/91740.xml_done\n",
      "Average centroid distance: 42341.160535214214\n",
      "hubmap-data/Healthy-data/91746.xml_done\n",
      "Average centroid distance: 34006.08238920672\n",
      "hubmap-data/Healthy-data/91708.xml_done\n",
      "Average centroid distance: 20643.633427922545\n",
      "hubmap-data/Healthy-data/91714.xml_done\n",
      "Average centroid distance: 33740.94092476372\n",
      "hubmap-data/Healthy-data/91661.xml_done\n",
      "Average centroid distance: 37864.311246760146\n",
      "hubmap-data/Healthy-data/H14-12555_1L_PAS.xml_done\n",
      "Average centroid distance: 34722.019527608885\n",
      "hubmap-data/Healthy-data/91675.xml_done\n",
      "Average centroid distance: 31754.258854340813\n",
      "hubmap-data/Healthy-data/91649.xml_done\n",
      "Average centroid distance: 34456.26213465771\n",
      "hubmap-data/Healthy-data/H15-01861_1H_PAS.xml_done\n",
      "Average centroid distance: 34186.17559198691\n",
      "hubmap-data/Healthy-data/91736.xml_done\n",
      "Average centroid distance: 36131.354961718025\n",
      "hubmap-data/Healthy-data/91732.xml_done\n",
      "Average centroid distance: 34176.48796620316\n",
      "hubmap-data/Healthy-data/91657.xml_done\n",
      "Average centroid distance: 34885.574824854564\n",
      "hubmap-data/Healthy-data/91724.xml_done\n",
      "Average centroid distance: 38338.68886374129\n",
      "hubmap-data/Healthy-data/91683.xml_done\n",
      "Average centroid distance: 36514.658408757336\n",
      "hubmap-data/Healthy-data/91742.xml_done\n",
      "Average centroid distance: 39444.146509033155\n",
      "hubmap-data/Healthy-data/91700.xml_done\n",
      "Average centroid distance: 37320.895149518656\n",
      "hubmap-data/Healthy-data/91677.xml_done\n",
      "Average centroid distance: 25916.64197930491\n",
      "hubmap-data/Healthy-data/91706.xml_done\n",
      "Average centroid distance: 32243.144666588858\n",
      "hubmap-data/Healthy-data/H18-04707_1E1_PAS.xml_done\n",
      "Average centroid distance: 40617.877023898865\n",
      "hubmap-data/Healthy-data/91681.xml_done\n",
      "Average centroid distance: 34743.144331336676\n",
      "hubmap-data/Healthy-data/91679.xml_done\n",
      "Average centroid distance: 41783.677171892465\n",
      "hubmap-data/Healthy-data/H15-04993_1L_PAS.xml_done\n",
      "Average centroid distance: 34576.6074180689\n",
      "hubmap-data/Healthy-data/H16-01084_1E_PAS.xml_done\n",
      "Average centroid distance: 41311.410165989524\n",
      "hubmap-data/Healthy-data/91671.xml_done\n",
      "Average centroid distance: 39439.33064879157\n",
      "hubmap-data/Healthy-data/91653.xml_done\n",
      "Average centroid distance: 27483.315213470738\n",
      "hubmap-data/Healthy-data/91734.xml_done\n",
      "Average centroid distance: 33420.12250685756\n",
      "hubmap-data/Healthy-data/91744.xml_done\n",
      "Average centroid distance: 34300.5182806757\n",
      "hubmap-data/Healthy-data/H15-14833_1E_PAS.xml_done\n",
      "Average centroid distance: 37852.55168403992\n",
      "hubmap-data/Healthy-data/91698.xml_done\n",
      "Average centroid distance: 18869.498353768282\n",
      "hubmap-data/Healthy-data/91718.xml_done\n",
      "Average centroid distance: 36164.866166371576\n",
      "hubmap-data/Healthy-data/91659.xml_done\n",
      "Average centroid distance: 36627.92132749247\n",
      "hubmap-data/Healthy-data/91738.xml_done\n",
      "Average centroid distance: 39351.13383815616\n",
      "hubmap-data/Healthy-data/91663.xml_done\n",
      "Average centroid distance: 31538.473033412625\n",
      "hubmap-data/Healthy-data/91669.xml_done\n",
      "Average centroid distance: 45550.86596333182\n",
      "hubmap-data/Healthy-data/91748.xml_done\n",
      "Average centroid distance: 34234.728187060166\n",
      "hubmap-data/Healthy-data/91702.xml_done\n",
      "Average centroid distance: 34303.928365500615\n",
      "hubmap-data/Healthy-data/91647.xml_done\n",
      "Average centroid distance: 29375.6960042232\n",
      "hubmap-data/Healthy-data/91673.xml_done\n",
      "Average centroid distance: 30104.75717516178\n",
      "hubmap-data/Healthy-data/91665.xml_done\n",
      "Average centroid distance: 31051.270203646854\n",
      "hubmap-data/Healthy-data/91667.xml_done\n",
      "Average centroid distance: 36797.505485819274\n",
      "hubmap-data/Healthy-data/91712.xml_done\n",
      "Average centroid distance: 34728.26159807848\n",
      "hubmap-data/Healthy-data/91704.xml_done\n"
     ]
    }
   ],
   "source": [
    "# Load XML\n",
    "annotations = glob.glob(\"hubmap-data/Healthy-data/*.xml\")\n",
    "dist = []\n",
    "start_time = time.time()\n",
    "for anno in annotations:\n",
    "    tree = ET.parse(anno)\n",
    "    root = tree.getroot()\n",
    "    annotation = root.find('.//Annotation[@Id=\"5\"]')\n",
    "    regions = annotation.findall(\".//Region\")\n",
    "\n",
    "    centroids = compute_centroid(regions)\n",
    "\n",
    "    if centroids:\n",
    "        centroids_array = np.array([(p.x, p.y) for p in centroids])\n",
    "        distances = pdist(centroids_array)  # Efficient condensed distance matrix\n",
    "        avg_dist = np.mean(distances)\n",
    "        dist.append(avg_dist)\n",
    "        print(f\"Average centroid distance: {avg_dist}\")\n",
    "\n",
    "    print(f\"{anno}_done\")"
   ]
  },
  {
   "cell_type": "code",
   "execution_count": 8,
   "id": "34bbca47-a6f7-4f1f-aafd-1536c8650a4c",
   "metadata": {},
   "outputs": [],
   "source": [
    "with open(\"Healthy_tubule_dist.txt\", \"w\") as fp:\n",
    "    for d in dist:\n",
    "        fp.write(f\"{d}\\n\")"
   ]
  },
  {
   "cell_type": "code",
   "execution_count": 2,
   "id": "52629b31-21e5-481a-bcc0-073106d7ce0b",
   "metadata": {},
   "outputs": [],
   "source": [
    "ratios = []\n",
    "for ex in glob.glob(\"hubmap-data/hubmap-data/Disease_Data/*.xlsx\"):\n",
    "    df_sc = pd.read_excel(ex, sheet_name = \"gs_glomeruli\")\n",
    "    df_n = pd.read_excel(ex, sheet_name = \"non_gs_glomeruli\")\n",
    "    ratio = df_n.shape[0] / df_sc.shape[0]\n",
    "    ratios.append(ratio)"
   ]
  },
  {
   "cell_type": "code",
   "execution_count": 9,
   "id": "c1571589-40e3-4cdb-88b2-98c78f336dd4",
   "metadata": {},
   "outputs": [
    {
     "name": "stdout",
     "output_type": "stream",
     "text": [
      "18-162_PAS_5of6.segmentations.ome.tiff_done\n",
      "S-1908-010112_PAS_2of2.segmentations.ome.tiff_done\n",
      "S-2006-002084_PAS_1of3.segmentations.ome.tiff_done\n",
      "S-2106-003587_PAS_2of2.segmentations.ome.tiff_done\n",
      "S-2002-005658_PAS_2of2.segmentations.ome.tiff_done\n",
      "S-2001-000090_PAS_1of2.segmentations.ome.tiff_done\n",
      "S-2101-000935_PAS_2of2.segmentations.ome.tiff_done\n",
      "S-1908-000752_PAS_1of2.segmentations.ome.tiff_done\n",
      "S-2006-002439_PAS_2of3.segmentations.ome.tiff_done\n",
      "S-2006-001848_PAS_2of2.segmentations.ome.tiff_done\n",
      "S-2006-004811_PAS_1of2.segmentations.ome.tiff_done\n",
      "S-2006-001989_PAS_2of2.segmentations.ome.tiff_done\n",
      "S-2002-007789_PAS_2of2.segmentations.ome.tiff_done\n",
      "S-2102-006598_PAS_2of2.segmentations.ome.tiff_done\n",
      "S-1910-000042_PAS_2of2.segmentations.ome.tiff_done\n",
      "S-1908-009687_PAS_2of2.segmentations.ome.tiff_done\n",
      "S-1909-007149_PAS_1of2.segmentations.ome.tiff_done\n",
      "S-1904-007292_PAS_2of2.segmentations.ome.tiff_done\n",
      "S-2006-004669_PAS_2of2.segmentations.ome.tiff_done\n",
      "S-2006-002486_PAS_1of1.segmentations.ome.tiff_done\n",
      "S-2006-004764_PAS_1of2.segmentations.ome.tiff_done\n",
      "S-2006-002434_PAS_3of3.segmentations.ome.tiff_done\n",
      "S-2102-006457_PAS_2of2.segmentations.ome.tiff_done\n",
      "S-2002-007602_PAS_1of2.segmentations.ome.tiff_done\n",
      "18-162_PAS_1of6.segmentations.ome.tiff_done\n",
      "S-2008-000354_PAS_1of2.segmentations.ome.tiff_done\n",
      "S-2006-002185_PAS_2of2.segmentations.ome.tiff_done\n",
      "S-1905-017737_PAS_2of2.segmentations.ome.tiff_done\n",
      "S-1905-018732_PAS_1of2.segmentations.ome.tiff_done\n",
      "S-1909-007196_PAS_1of2.segmentations.ome.tiff_done\n",
      "S-2101-000841_PAS_2of2.segmentations.ome.tiff_done\n",
      "S-1908-010065_PAS_2of2.segmentations.ome.tiff_done\n",
      "S-2002-007507_PAS_2of2.segmentations.ome.tiff_done\n",
      "S-2006-002245_PAS_1of2.segmentations.ome.tiff_done\n",
      "S-1905-018778_PAS_2of2.segmentations.ome.tiff_done\n",
      "S-2010-012854_PAS_2of2.segmentations.ome.tiff_done\n",
      "S-1908-009831_PAS_1of2.segmentations.ome.tiff_done\n",
      "S-2006-003978_PAS_2of2.segmentations.ome.tiff_done\n",
      "S-1905-018685_PAS_1of2.segmentations.ome.tiff_done\n",
      "S-1909-007243_PAS_1of2.segmentations.ome.tiff_done\n",
      "S-1908-000632_PAS_3of3.segmentations.ome.tiff_done\n",
      "S-2010-004277_PAS_2of2.segmentations.ome.tiff_done\n",
      "S-2006-005046_PAS_2of2.segmentations.ome.tiff_done\n",
      "S-2006-005093_PAS_2of2.segmentations.ome.tiff_done\n",
      "S-2010-004230_PAS_2of2.segmentations.ome.tiff_done\n",
      "S-1905-017596_PAS_2of2.segmentations.ome.tiff_done\n",
      "S-2008-000353_PAS_2of2.segmentations.ome.tiff_done\n",
      "S-1908-010018_PAS_2of2.segmentations.ome.tiff_done\n",
      "S-2001-019412_PAS_2of2.segmentations.ome.tiff_done\n",
      "S-2002-007508_PAS_1of2.segmentations.ome.tiff_done\n",
      "S-2001-005404_PAS_1of2.segmentations.ome.tiff_done\n",
      "S-2006-002045_PAS_1of2.segmentations.ome.tiff_done\n",
      "S-2002-007742_PAS_2of2.segmentations.ome.tiff_done\n",
      "18-142_PAS_5of6.segmentations.ome.tiff_done\n",
      "S-1904-007293_PAS_1of2.segmentations.ome.tiff_done\n",
      "S-1905-017549_PAS_2of2.segmentations.ome.tiff_done\n",
      "S-2010-013042_PAS_2of2.segmentations.ome.tiff_done\n",
      "S-2001-005356_PAS_2of2.segmentations.ome.tiff_done\n",
      "S-1908-010019_PAS_1of2.segmentations.ome.tiff_done\n",
      "S-2102-003404_PAS_2of2.segmentations.ome.tiff_done\n",
      "S-2002-007648_PAS_2of2.segmentations.ome.tiff_done\n",
      "S-1908-000846_PAS_1of2.segmentations.ome.tiff_done\n",
      "S-2006-001660_PAS_2of2.segmentations.ome.tiff_done\n",
      "S-1910-000089_PAS_2of2.segmentations.ome.tiff_done\n",
      "S-1910-000184_PAS_1of2.segmentations.ome.tiff_done\n",
      "S-2006-001661_PAS_1of2.segmentations.ome.tiff_done\n",
      "18-142_PAS_1of6.segmentations.ome.tiff_done\n",
      "S-2006-005000_PAS_1of2.segmentations.ome.tiff_done\n",
      "S-2103-004716_PAS_2of2.segmentations.ome.tiff_done\n",
      "18-162_PAS_6of6.segmentations.ome.tiff_done\n",
      "S-1908-000604_PAS_2of3.segmentations.ome.tiff_done\n",
      "S-2006-005094_PAS_1of2.segmentations.ome.tiff_done\n",
      "S-1909-007195_PAS_2of2.segmentations.ome.tiff_done\n",
      "18-142_PAS_4of6.segmentations.ome.tiff_done\n",
      "S-1908-000893_PAS_2of2.segmentations.ome.tiff_done\n",
      "S-2002-014469_PAS_2of2.segmentations.ome.tiff_done\n",
      "S-2109-011405_PAS_2of2.segmentations.ome.tiff_done\n",
      "S-2006-002292_PAS_1of2.segmentations.ome.tiff_done\n",
      "S-1905-018731_PAS_2of2.segmentations.ome.tiff_done\n",
      "18-142_PAS_2of6.segmentations.ome.tiff_done\n",
      "S-1908-009878_PAS_1of3.segmentations.ome.tiff_done\n",
      "S-2006-005047_PAS_1of2.segmentations.ome.tiff_done\n",
      "S-1905-017550_PAS_1of2.segmentations.ome.tiff_done\n",
      "S-2006-002186_PAS_1of2.segmentations.ome.tiff_done\n",
      "S-2103-004669_PAS_2of2.segmentations.ome.tiff_done\n",
      "S-1905-018638_PAS_1of2.segmentations.ome.tiff_done\n",
      "S-1910-000183_PAS_2of2.segmentations.ome.tiff_done\n",
      "S-2006-002244_PAS_2of2.segmentations.ome.tiff_done\n",
      "S-2103-004857_PAS_2of2.segmentations.ome.tiff_done\n",
      "S-2104-001089_PAS_2of2.segmentations.ome.tiff_done\n",
      "S-2006-004952_PAS_2of2.segmentations.ome.tiff_done\n",
      "S-2002-007554_PAS_2of2.segmentations.ome.tiff_done\n",
      "S-1909-007242_PAS_2of2.segmentations.ome.tiff_done\n",
      "S-2006-001990_PAS_1of2.segmentations.ome.tiff_done\n",
      "S-1903-005465_PAS_2of2.segmentations.ome.tiff_done\n",
      "S-1908-009640_PAS_2of2.segmentations.ome.tiff_done\n",
      "S-2010-012995_PAS_2of2.segmentations.ome.tiff_done\n",
      "S-2106-003788_PAS_2of2.segmentations.ome.tiff_done\n",
      "S-2006-004859_PAS_1of2.segmentations.ome.tiff_done\n",
      "S-1908-009688_PAS_1of2.segmentations.ome.tiff_done\n",
      "S-2102-006504_PAS_2of2.segmentations.ome.tiff_done\n",
      "S-2101-000888_PAS_2of2.segmentations.ome.tiff_done\n",
      "S-2101-000794_PAS_2of2.segmentations.ome.tiff_done\n",
      "S-2102-006222_PAS_2of2.segmentations.ome.tiff_done\n",
      "S-2105-008096_PAS_2of2.segmentations.ome.tiff_done\n",
      "S-1908-009781_PAS_2of2.segmentations.ome.tiff_done\n",
      "S-2002-007555_PAS_1of2.segmentations.ome.tiff_done\n",
      "18-162_PAS_2of6.segmentations.ome.tiff_done\n",
      "S-2102-006645_PAS_2of2.segmentations.ome.tiff_done\n",
      "S-2101-003189_PAS_2of2.segmentations.ome.tiff_done\n",
      "S-2010-012948_PAS_2of2.segmentations.ome.tiff_done\n",
      "18-142_PAS_3of6.segmentations.ome.tiff_done\n",
      "S-2006-002113_PAS_3of3.segmentations.ome.tiff_done\n",
      "18-162_PAS_3of6.segmentations.ome.tiff_done\n",
      "S-1905-017738_PAS_1of2.segmentations.ome.tiff_done\n",
      "S-2006-004953_PAS_1of2.segmentations.ome.tiff_done\n",
      "S-2006-003979_PAS_1of2.segmentations.ome.tiff_done\n",
      "S-1908-009877_PAS_2of3.segmentations.ome.tiff_done\n",
      "S-1905-018684_PAS_2of2.segmentations.ome.tiff_done\n",
      "S-1909-007148_PAS_2of2.segmentations.ome.tiff_done\n",
      "S-1904-008128_PAS_2of2.segmentations.ome.tiff_done\n",
      "S-1908-010113_PAS_1of2.segmentations.ome.tiff_done\n",
      "S-1908-009734_PAS_2of2.segmentations.ome.tiff_done\n",
      "S-1908-009735_PAS_1of2.segmentations.ome.tiff_done\n",
      "S-2006-004999_PAS_2of2.segmentations.ome.tiff_done\n",
      "S-2104-019031_PAS_2of2.segmentations.ome.tiff_done\n",
      "S-2002-005612_PAS_1of2.segmentations.ome.tiff_done\n",
      "S-2006-002391_PAS_1of1.segmentations.ome.tiff_done\n",
      "S-1908-000614_PAS_1of3.segmentations.ome.tiff_done\n",
      "S-2002-005659_PAS_1of2.segmentations.ome.tiff_done\n",
      "S-1908-009782_PAS_1of2.segmentations.ome.tiff_done\n",
      "S-2006-002138_PAS_2of2.segmentations.ome.tiff_done\n",
      "18-162_PAS_4of6.segmentations.ome.tiff_done\n",
      "S-2006-001849_PAS_1of2.segmentations.ome.tiff_done\n",
      "S-2106-003540_PAS_2of2.segmentations.ome.tiff_done\n",
      "S-1910-000137_PAS_1of2.segmentations.ome.tiff_done\n",
      "S-2001-005403_PAS_2of2.segmentations.ome.tiff_done\n",
      "S-2002-007460_PAS_2of2.segmentations.ome.tiff_done\n",
      "S-1908-000892_PAS_1of2.segmentations.ome.tiff_done\n",
      "S-1908-000798_PAS_2of2.segmentations.ome.tiff_done\n",
      "S-1905-017597_PAS_1of2.segmentations.ome.tiff_done\n",
      "S-2006-002139_PAS_1of2.segmentations.ome.tiff_done\n",
      "S-2102-006269_PAS_2of2.segmentations.ome.tiff_done\n",
      "S-2002-005611_PAS_2of2.segmentations.ome.tiff_done\n",
      "S-2103-004763_PAS_2of2.segmentations.ome.tiff_done\n",
      "S-1908-009830_PAS_2of2.segmentations.ome.tiff_done\n",
      "S-2102-006716_PAS_2of2.segmentations.ome.tiff_done\n",
      "S-2001-000089_PAS_2of2.segmentations.ome.tiff_done\n",
      "S-2106-003493_PAS_2of2.segmentations.ome.tiff_done\n",
      "S-2002-007790_PAS_1of2.segmentations.ome.tiff_done\n",
      "S-2006-004858_PAS_2of2.segmentations.ome.tiff_done\n",
      "S-2006-004763_PAS_2of2.segmentations.ome.tiff_done\n",
      "S-2006-002044_PAS_2of2.segmentations.ome.tiff_done\n",
      "S-1905-018637_PAS_2of2.segmentations.ome.tiff_done\n",
      "S-1903-005466_PAS_1of2.segmentations.ome.tiff_done\n",
      "S-1908-000845_PAS_2of2.segmentations.ome.tiff_done\n",
      "S-2006-002291_PAS_2of2.segmentations.ome.tiff_done\n",
      "S-2001-019413_PAS_1of2.segmentations.ome.tiff_done\n",
      "S-2001-000042_PAS_2of2.segmentations.ome.tiff_done\n",
      "S-2006-004481_PAS_2of2.segmentations.ome.tiff_done\n",
      "S-1908-009868_PAS_3of3.segmentations.ome.tiff_done\n",
      "S-2006-002440_PAS_1of3.segmentations.ome.tiff_done\n",
      "S-2102-006175_PAS_2of2.segmentations.ome.tiff_done\n",
      "S-2001-000137_PAS_1of2.segmentations.ome.tiff_done\n",
      "S-2002-007649_PAS_1of2.segmentations.ome.tiff_done\n",
      "S-2001-000136_PAS_2of2.segmentations.ome.tiff_done\n",
      "S-2006-001802_PAS_1of2.segmentations.ome.tiff_done\n",
      "18-142_PAS_6of6.segmentations.ome.tiff_done\n",
      "S-2002-007601_PAS_2of2.segmentations.ome.tiff_done\n",
      "S-1908-000751_PAS_2of2.segmentations.ome.tiff_done\n"
     ]
    }
   ],
   "source": [
    "folder_path = '/home/ec2-user/SageMaker/mapping/hubmap-data/hubmap-data/Disease_Data'\n",
    "\n",
    "def get_annotations_from_tiff(file_path, page, downsample=1):\n",
    "    data = read_ome(f\"{folder_path}/{file_path}\", page)\n",
    "    return data\n",
    "\n",
    "\n",
    "files = [f for f in os.listdir(folder_path) if f.endswith('ome.tiff')]\n",
    "page = { 'non_gs': 1, 'gs': 2,}\n",
    "\n",
    "num_ng, num_g = [], []\n",
    "for file in files:\n",
    "    data_non = get_annotations_from_tiff(file, page['non_gs'])\n",
    "    data_gs = get_annotations_from_tiff(file, page['gs'])\n",
    "    num_non = np.max(data_non)\n",
    "    num_gs = np.max(data_gs)\n",
    "    num_ng.append(num_non)\n",
    "    num_g.append(num_gs)\n",
    "    print(f\"{file}_done\")\n",
    "    \n",
    "ratios = np.array(num_ng) / np.array(num_g)"
   ]
  },
  {
   "cell_type": "code",
   "execution_count": 10,
   "id": "ad4a129a-cef3-4123-b75b-9e5594f696dd",
   "metadata": {},
   "outputs": [],
   "source": [
    "with open(\"disease_ratios.txt\", \"w\") as fp:\n",
    "    for r in ratios:\n",
    "        fp.write(f\"{r}\\n\")"
   ]
  },
  {
   "cell_type": "markdown",
   "id": "165d9fbd-fc92-45d8-957a-1f71b1c8b202",
   "metadata": {},
   "source": [
    "### Plot out the ratios and avg. dists between healthy and disease"
   ]
  },
  {
   "cell_type": "code",
   "execution_count": 18,
   "id": "d7bfe851-ce43-4952-bb9e-4530f3931450",
   "metadata": {},
   "outputs": [],
   "source": [
    "with open('healthy_ratios.txt', 'r') as file:\n",
    "    heal_r = [float(line.strip()) for line in file]\n",
    "with open('disease_ratios.txt', 'r') as file:\n",
    "    disease_r = [float(line.strip()) for line in file]\n",
    "# with open('Disease_tubule_dist.txt', 'r') as file:\n",
    "#     disease_tubule_dist = [line.strip() for line in file]\n",
    "# with open('Healthy_tubule_dist.txt', 'r') as file:\n",
    "#     heal_tb_dist = [line.strip() for line in file]"
   ]
  },
  {
   "cell_type": "code",
   "execution_count": null,
   "id": "ac0c8e47-b173-429c-9342-21baf7cff2e3",
   "metadata": {},
   "outputs": [],
   "source": [
    "# df = pd.DataFrame({\n",
    "#     \"Values\": heal_r + disease_r,\n",
    "#     \"Group\": [\"healthy\"] * len(heal_r) + [\"disease\"] * len(disease_r)\n",
    "# })\n",
    "\n",
    "# sns.violinplot(x='Group', y='Values', data=df)\n",
    "# plt.title(\"Healthy vs Disease glomeruli: functional/non-funcional\")"
   ]
  },
  {
   "cell_type": "code",
   "execution_count": 31,
   "id": "10c6d490-3754-49fb-8f23-e95f6621948a",
   "metadata": {},
   "outputs": [
    {
     "data": {
      "image/png": "[encoded data removed]",
      "text/plain": [
       "<Figure size 640x480 with 1 Axes>"
      ]
     },
     "metadata": {},
     "output_type": "display_data"
    }
   ],
   "source": [
    "# plt.hist(heal_r, bins=10, alpha=0.6, label='healthy')\n",
    "# plt.hist(disease_r, bins=10, alpha=0.6, label='disease')\n",
    "\n",
    "# plt.xlabel('Ratio')\n",
    "# plt.ylabel('Frequency')\n",
    "# plt.title('Healthy vs Disease glomeruli: functional/non-funcional')\n",
    "# plt.legend()\n",
    "# plt.show()"
   ]
  },
  {
   "cell_type": "code",
   "execution_count": 34,
   "id": "d5bdf4b0-e199-465c-a3d2-fbc240c97d96",
   "metadata": {},
   "outputs": [
    {
     "name": "stderr",
     "output_type": "stream",
     "text": [
      "/tmp/ipykernel_8865/3269392647.py:1: MatplotlibDeprecationWarning: The 'labels' parameter of boxplot() has been renamed 'tick_labels' since Matplotlib 3.9; support for the old name will be dropped in 3.11.\n",
      "  plt.boxplot([heal_r, disease_r], labels=['healthy', 'disease'])\n"
     ]
    },
    {
     "data": {
      "image/png": "[encoded data removed]",
      "text/plain": [
       "<Figure size 640x480 with 1 Axes>"
      ]
     },
     "metadata": {},
     "output_type": "display_data"
    }
   ],
   "source": [
    "plt.boxplot([heal_r, disease_r], labels=['healthy', 'disease'])\n",
    "plt.title('Healthy vs Disease glomeruli: functional/non-funcional')\n",
    "plt.ylabel('Ratios')\n",
    "plt.axhline(y = 3, color = \"red\", linestyle = \"--\")\n",
    "plt.show()"
   ]
  },
  {
   "cell_type": "markdown",
   "id": "5767ee32-c8b1-40c7-acbf-db5b18088195",
   "metadata": {},
   "source": [
    "### Tubule fibrosis analysis between disease and healthy (from excel)"
   ]
  },
  {
   "cell_type": "code",
   "execution_count": 44,
   "id": "0dcc9f5f-c54a-4b8b-9906-e306ee251c86",
   "metadata": {},
   "outputs": [],
   "source": [
    "heal_tb_fracs, dis_tb_fracs = [], []\n",
    "for ex in glob.glob(\"hubmap-data/Healthy-data/*.xlsx\"):\n",
    "    heal_tb_data = pd.read_excel(ex, sheet_name = \"tubules\")\n",
    "    heal_tb_fracs.append(np.mean(heal_tb_data[\"Luminal Fraction\"].tolist()))\n",
    "\n",
    "for ex in glob.glob(\"hubmap-data/hubmap-data/Disease_Data/*.xlsx\"):\n",
    "    dis_tb_data = pd.read_excel(ex, sheet_name = \"Morphological Features\")\n",
    "    dis_tb_fracs.append(np.mean(dis_tb_data[\"Luminal Space Area By Object Area\"].tolist()))"
   ]
  },
  {
   "cell_type": "code",
   "execution_count": 45,
   "id": "bbc56d24-7623-494d-8ecb-4e852ef8b0ad",
   "metadata": {},
   "outputs": [
    {
     "data": {
      "text/plain": [
       "30"
      ]
     },
     "execution_count": 45,
     "metadata": {},
     "output_type": "execute_result"
    }
   ],
   "source": [
    "len(heal_tb_fracs)"
   ]
  },
  {
   "cell_type": "code",
   "execution_count": 47,
   "id": "cd4b7d9d-9c6c-4d05-bc50-a3ec472606ed",
   "metadata": {},
   "outputs": [
    {
     "data": {
      "text/plain": [
       "[0.2764622479783551,\n",
       " 0.3673877990297875,\n",
       " 0.29704973347113317,\n",
       " 0.3159388256771439,\n",
       " 0.23860184027831446,\n",
       " 0.20449660695769215,\n",
       " 0.13782652879846932,\n",
       " 0.31990355618713623,\n",
       " 0.3813602213668157,\n",
       " 0.2496741303612499,\n",
       " 0.22380055063343493,\n",
       " 0.25803959290730344,\n",
       " 0.34384234259353685,\n",
       " 0.45030489810080554,\n",
       " 0.2500119598835431,\n",
       " 0.2011598620058429,\n",
       " 0.2425873940188435,\n",
       " 0.2890080568517209,\n",
       " 0.27561290205248634,\n",
       " 0.24392321060946157,\n",
       " 0.2686966643091574,\n",
       " 0.22795512389647168,\n",
       " 0.2410631380529377,\n",
       " 0.46140438007063245,\n",
       " 0.20837278468772286,\n",
       " 0.36648217490903423,\n",
       " 0.36749424649514806,\n",
       " 0.12909099528826604,\n",
       " 0.3143757255128925,\n",
       " 0.19721626111935353,\n",
       " 0.23084574438338204,\n",
       " 0.28192213593506615,\n",
       " 0.2908277392951362,\n",
       " 0.4594196591172149,\n",
       " 0.572645796277036,\n",
       " 0.40503448082334353,\n",
       " 0.2295713616870264,\n",
       " 0.17013837307613813,\n",
       " 0.3394733492046523,\n",
       " 0.32607432082958115,\n",
       " 0.35014112269370035,\n",
       " 0.5954090106214955,\n",
       " 0.40307059678146245,\n",
       " 0.18941271235142085,\n",
       " 0.24519216324260792,\n",
       " 0.27891593960176375,\n",
       " 0.3012367994204653,\n",
       " 0.33828794870844503,\n",
       " 0.23814733744141406,\n",
       " 0.6162085272835558,\n",
       " 0.5544049361339342,\n",
       " 0.3976948741615328,\n",
       " 0.1004679974283664,\n",
       " 0.17978532353098525,\n",
       " 0.3810314844370267,\n",
       " 0.2788258155752804,\n",
       " 0.2866803976410698,\n",
       " 0.2506030261819112,\n",
       " 0.22052285604065563,\n",
       " 0.2409019719247373,\n",
       " 0.4070456049493282,\n",
       " 0.2847556329902996,\n",
       " 0.680907371284114,\n",
       " 0.4425641736190759,\n",
       " 0.4529991566575579,\n",
       " 0.2810687905945733,\n",
       " 0.3163653380079962,\n",
       " 0.37224178636553457,\n",
       " 0.2938155449364957,\n",
       " 0.33629933082309477,\n",
       " 0.37047857763226455,\n",
       " 0.2479742555018562,\n",
       " 0.2741682061308946,\n",
       " 0.34507787534784196,\n",
       " 0.3356975064019977,\n",
       " 0.26358507206136944,\n",
       " 0.5423621755625022,\n",
       " 0.13594296307955822,\n",
       " 0.43783188196096784,\n",
       " 0.310049840018515,\n",
       " 0.20713702439290732,\n",
       " 0.27902790727420174,\n",
       " 0.1766404446956201,\n",
       " 0.3099194469003097,\n",
       " 0.2307488563897907,\n",
       " 0.35467889351798804,\n",
       " 0.15340291127357164,\n",
       " 0.4457481497389301,\n",
       " 0.2804616997653069,\n",
       " 0.38777535725207357,\n",
       " 0.19015266628691346,\n",
       " 0.4034401249934972,\n",
       " 0.2770258764577836,\n",
       " 0.3305382046852397,\n",
       " 0.16577804286456843,\n",
       " 0.3367795615556405,\n",
       " 0.15143604675269404,\n",
       " 0.26120643270545446,\n",
       " 0.1832915201163359,\n",
       " 0.25594162217235106,\n",
       " 0.3695783729155219,\n",
       " 0.10798550755679419,\n",
       " 0.3349450607971123,\n",
       " 0.29480302114396034,\n",
       " 0.3072766671012524,\n",
       " 0.43868159416627966,\n",
       " 0.3938242718973626,\n",
       " 0.19977762338206556,\n",
       " 0.3476733608946799,\n",
       " 0.32452494230105955,\n",
       " 0.22762393189683933,\n",
       " 0.3384330896334098,\n",
       " 0.49741981787539086,\n",
       " 0.40457561662721103,\n",
       " 0.265544777518477,\n",
       " 0.3318120811753335,\n",
       " 0.16684490146547187,\n",
       " 0.13782149042155645,\n",
       " 0.31253696524695546,\n",
       " 0.49522809905905585,\n",
       " 0.43138645917044366,\n",
       " 0.08863012720815375,\n",
       " 0.20931720205713938,\n",
       " 0.32957376465030586,\n",
       " 0.3025560856120315,\n",
       " 0.2798773264346267,\n",
       " 0.24075134890594585,\n",
       " 0.32819279521218375,\n",
       " 0.3369457383976486,\n",
       " 0.23862180665012317,\n",
       " 0.21892280431948621,\n",
       " 0.2843854764829519,\n",
       " 0.4416629718600552,\n",
       " 0.33957729438403467,\n",
       " 0.2813212362512164,\n",
       " 0.42222655975952383,\n",
       " 0.36780930979757376,\n",
       " 0.2404075954771182,\n",
       " 0.2949979402401604,\n",
       " 0.2694907424161812,\n",
       " 0.4066294067017239,\n",
       " 0.3312958003628538,\n",
       " 0.5142757874256499,\n",
       " 0.29088660742033146,\n",
       " 0.29065232822551496,\n",
       " 0.21210951346062001,\n",
       " 0.23552954489716946,\n",
       " 0.08993980402246124,\n",
       " 0.3318800639381886,\n",
       " 0.20109003627940844,\n",
       " 0.40943262890607357,\n",
       " 0.3641162845593899,\n",
       " 0.3450563472098977,\n",
       " 0.2428270798370318,\n",
       " 0.21257526529562212,\n",
       " 0.33136885478516265]"
      ]
     },
     "execution_count": 47,
     "metadata": {},
     "output_type": "execute_result"
    }
   ],
   "source": [
    "dis_tb_fracs"
   ]
  },
  {
   "cell_type": "code",
   "execution_count": 46,
   "id": "e9bf9205-a608-45ef-9a67-738195d59230",
   "metadata": {},
   "outputs": [
    {
     "data": {
      "image/png": "[encoded data removed]",
      "text/plain": [
       "<Figure size 640x480 with 1 Axes>"
      ]
     },
     "metadata": {},
     "output_type": "display_data"
    }
   ],
   "source": [
    "plt.scatter(heal_r, heal_tb_fracs, color = \"blue\", label = \"healthy\")\n",
    "plt.scatter(disease_r[:len(dis_tb_fracs)], dis_tb_fracs, color = \"orange\", label = \"disease\")\n",
    "plt.title(\"Healthy vs Disease Morphology difference\")\n",
    "plt.xlabel(\"Ratio of non-sclerosed glomeruli over sclerosed glomeruli\")\n",
    "plt.ylabel(\"Tubule luminal fraction\")\n",
    "plt.legend()\n",
    "plt.show()"
   ]
  },
  {
   "cell_type": "code",
   "execution_count": 49,
   "id": "b976b6d2-5f42-4b40-bb9b-6aa4ef736f01",
   "metadata": {},
   "outputs": [
    {
     "data": {
      "text/plain": [
       "Text(0, 0.5, 'Tubule luminal fraction')"
      ]
     },
     "execution_count": 49,
     "metadata": {},
     "output_type": "execute_result"
    },
    {
     "data": {
      "image/png": "[encoded data removed]",
      "text/plain": [
       "<Figure size 640x480 with 1 Axes>"
      ]
     },
     "metadata": {},
     "output_type": "display_data"
    }
   ],
   "source": [
    "plt.scatter(heal_r, heal_tb_fracs, color = \"blue\", label = \"healthy\")\n",
    "plt.title(\"Healthy tubule morphology\")\n",
    "plt.xlabel(\"Ratio of non-sclerosed glomeruli over sclerosed glomeruli\")\n",
    "plt.ylabel(\"Tubule luminal fraction\")"
   ]
  },
  {
   "cell_type": "code",
   "execution_count": 50,
   "id": "2a876d3d-02a3-4b3f-b071-44801c823d72",
   "metadata": {},
   "outputs": [
    {
     "data": {
      "text/plain": [
       "Text(0, 0.5, 'Tubule luminal fraction')"
      ]
     },
     "execution_count": 50,
     "metadata": {},
     "output_type": "execute_result"
    },
    {
     "data": {
      "image/png": "[encoded data removed]",
      "text/plain": [
       "<Figure size 640x480 with 1 Axes>"
      ]
     },
     "metadata": {},
     "output_type": "display_data"
    }
   ],
   "source": [
    "plt.scatter(disease_r[:len(dis_tb_fracs)], dis_tb_fracs, color = \"orange\", label = \"disease\")\n",
    "plt.title(\"Disease tubule morphology\")\n",
    "plt.xlabel(\"Ratio of non-sclerosed glomeruli over sclerosed glomeruli\")\n",
    "plt.ylabel(\"Tubule luminal fraction\")"
   ]
  },
  {
   "cell_type": "code",
   "execution_count": null,
   "id": "b7000159-93a5-4d95-883d-3ba9f4e06482",
   "metadata": {},
   "outputs": [],
   "source": [
    "# plt.scatter(heal_r, heal_tb_dist, color = \"blue\", label = \"healthy\")\n",
    "# plt.scatter(disease_r, disease_tb_dist, color = \"orange\", label = \"disease\")\n",
    "# plt.label(\"Healthy vs Disease Morphology difference\")\n",
    "# plt.xlabel(\"Ratio of non-sclerosed glomeruli over sclerosed glomeruli\")\n",
    "# plt.ylabel(\"Avg distance between tubules\")\n",
    "# plt.legend()\n",
    "# plt.show()"
   ]
  },
  {
   "cell_type": "markdown",
   "id": "ee3c4c1b-50e7-4973-b938-054a2012274a",
   "metadata": {},
   "source": [
    "### Tubule fibrosis analysis between disease and healthy (incomplete)"
   ]
  },
  {
   "cell_type": "code",
   "execution_count": null,
   "id": "72f95ccf-e2a1-4650-beb3-abc027065cc7",
   "metadata": {},
   "outputs": [],
   "source": [
    "import tiffslide as ts\n",
    "slide = ts.OpenSlide(\"hubmap-data/Healthy-data/91649.svs\")\n",
    "\n",
    "# Get full-resolution dimensions\n",
    "width, height = slide.dimensions"
   ]
  },
  {
   "cell_type": "code",
   "execution_count": 7,
   "id": "bfa49ff2-ae1c-4317-957c-c10ba0e4691a",
   "metadata": {},
   "outputs": [],
   "source": [
    "slide_img = slide.read_region((0,0), slide.level_count - 1, slide.dimensions)"
   ]
  },
  {
   "cell_type": "code",
   "execution_count": 5,
   "id": "b6bf4cb2-0f65-4d19-bb77-5fbd882b2d77",
   "metadata": {},
   "outputs": [],
   "source": [
    "image = np.array(slide_img)\n",
    "gray = cv2.cvtColor(image, cv2.COLOR_BGR2GRAY)\n",
    "inverted = 255 - gray"
   ]
  },
  {
   "cell_type": "code",
   "execution_count": 25,
   "id": "eee5be33-67a6-48bd-8b3d-ffd90c4952e7",
   "metadata": {},
   "outputs": [],
   "source": [
    "_, otsu_thresh = cv2.threshold(inverted, 0, 255, cv2.THRESH_BINARY + cv2.THRESH_OTSU)"
   ]
  },
  {
   "cell_type": "code",
   "execution_count": 27,
   "id": "63bb0ea7-4f01-4f97-a66e-e2e0e42908e2",
   "metadata": {},
   "outputs": [],
   "source": [
    "label_img = label(otsu_thresh)"
   ]
  },
  {
   "cell_type": "code",
   "execution_count": 30,
   "id": "1ead7e7d-b0b2-46fe-bb2b-b206795fcb7e",
   "metadata": {},
   "outputs": [],
   "source": [
    "props = regionprops_table(label_img, properties=[\n",
    "    'area',\n",
    "    'centroid'\n",
    "])"
   ]
  },
  {
   "cell_type": "code",
   "execution_count": 33,
   "id": "f4211c47-05bb-4e4b-974d-2a6c6a32e513",
   "metadata": {},
   "outputs": [
    {
     "data": {
      "text/html": [
       "<div>\n",
       "<style scoped>\n",
       "    .dataframe tbody tr th:only-of-type {\n",
       "        vertical-align: middle;\n",
       "    }\n",
       "\n",
       "    .dataframe tbody tr th {\n",
       "        vertical-align: top;\n",
       "    }\n",
       "\n",
       "    .dataframe thead th {\n",
       "        text-align: right;\n",
       "    }\n",
       "</style>\n",
       "<table border=\"1\" class=\"dataframe\">\n",
       "  <thead>\n",
       "    <tr style=\"text-align: right;\">\n",
       "      <th></th>\n",
       "      <th>area</th>\n",
       "      <th>centroid-0</th>\n",
       "      <th>centroid-1</th>\n",
       "    </tr>\n",
       "  </thead>\n",
       "  <tbody>\n",
       "    <tr>\n",
       "      <th>0</th>\n",
       "      <td>883775.0</td>\n",
       "      <td>384.826742</td>\n",
       "      <td>718.553071</td>\n",
       "    </tr>\n",
       "    <tr>\n",
       "      <th>1</th>\n",
       "      <td>8.0</td>\n",
       "      <td>0.875000</td>\n",
       "      <td>24.125000</td>\n",
       "    </tr>\n",
       "    <tr>\n",
       "      <th>2</th>\n",
       "      <td>142.0</td>\n",
       "      <td>5.232394</td>\n",
       "      <td>41.795775</td>\n",
       "    </tr>\n",
       "    <tr>\n",
       "      <th>3</th>\n",
       "      <td>6.0</td>\n",
       "      <td>0.333333</td>\n",
       "      <td>576.500000</td>\n",
       "    </tr>\n",
       "    <tr>\n",
       "      <th>4</th>\n",
       "      <td>1.0</td>\n",
       "      <td>0.000000</td>\n",
       "      <td>619.000000</td>\n",
       "    </tr>\n",
       "  </tbody>\n",
       "</table>\n",
       "</div>"
      ],
      "text/plain": [
       "       area  centroid-0  centroid-1\n",
       "0  883775.0  384.826742  718.553071\n",
       "1       8.0    0.875000   24.125000\n",
       "2     142.0    5.232394   41.795775\n",
       "3       6.0    0.333333  576.500000\n",
       "4       1.0    0.000000  619.000000"
      ]
     },
     "execution_count": 33,
     "metadata": {},
     "output_type": "execute_result"
    }
   ],
   "source": [
    "df = pd.DataFrame(props)\n",
    "df.head()"
   ]
  },
  {
   "cell_type": "code",
   "execution_count": 38,
   "id": "0c0dc7b1-90bb-42aa-9474-359d646ea1c0",
   "metadata": {},
   "outputs": [
    {
     "data": {
      "text/html": [
       "<div>\n",
       "<style scoped>\n",
       "    .dataframe tbody tr th:only-of-type {\n",
       "        vertical-align: middle;\n",
       "    }\n",
       "\n",
       "    .dataframe tbody tr th {\n",
       "        vertical-align: top;\n",
       "    }\n",
       "\n",
       "    .dataframe thead th {\n",
       "        text-align: right;\n",
       "    }\n",
       "</style>\n",
       "<table border=\"1\" class=\"dataframe\">\n",
       "  <thead>\n",
       "    <tr style=\"text-align: right;\">\n",
       "      <th></th>\n",
       "      <th>area</th>\n",
       "      <th>centroid-0</th>\n",
       "      <th>centroid-1</th>\n",
       "    </tr>\n",
       "  </thead>\n",
       "  <tbody>\n",
       "    <tr>\n",
       "      <th>count</th>\n",
       "      <td>231.000000</td>\n",
       "      <td>231.000000</td>\n",
       "      <td>231.000000</td>\n",
       "    </tr>\n",
       "    <tr>\n",
       "      <th>mean</th>\n",
       "      <td>3839.402597</td>\n",
       "      <td>367.662725</td>\n",
       "      <td>748.468483</td>\n",
       "    </tr>\n",
       "    <tr>\n",
       "      <th>std</th>\n",
       "      <td>58147.267006</td>\n",
       "      <td>239.341709</td>\n",
       "      <td>442.456463</td>\n",
       "    </tr>\n",
       "    <tr>\n",
       "      <th>min</th>\n",
       "      <td>1.000000</td>\n",
       "      <td>0.000000</td>\n",
       "      <td>12.117647</td>\n",
       "    </tr>\n",
       "    <tr>\n",
       "      <th>25%</th>\n",
       "      <td>2.000000</td>\n",
       "      <td>151.803030</td>\n",
       "      <td>381.846154</td>\n",
       "    </tr>\n",
       "    <tr>\n",
       "      <th>50%</th>\n",
       "      <td>4.000000</td>\n",
       "      <td>357.342857</td>\n",
       "      <td>745.857143</td>\n",
       "    </tr>\n",
       "    <tr>\n",
       "      <th>75%</th>\n",
       "      <td>11.500000</td>\n",
       "      <td>567.062500</td>\n",
       "      <td>1120.628571</td>\n",
       "    </tr>\n",
       "    <tr>\n",
       "      <th>max</th>\n",
       "      <td>883775.000000</td>\n",
       "      <td>768.333333</td>\n",
       "      <td>1442.000000</td>\n",
       "    </tr>\n",
       "  </tbody>\n",
       "</table>\n",
       "</div>"
      ],
      "text/plain": [
       "                area  centroid-0   centroid-1\n",
       "count     231.000000  231.000000   231.000000\n",
       "mean     3839.402597  367.662725   748.468483\n",
       "std     58147.267006  239.341709   442.456463\n",
       "min         1.000000    0.000000    12.117647\n",
       "25%         2.000000  151.803030   381.846154\n",
       "50%         4.000000  357.342857   745.857143\n",
       "75%        11.500000  567.062500  1120.628571\n",
       "max    883775.000000  768.333333  1442.000000"
      ]
     },
     "execution_count": 38,
     "metadata": {},
     "output_type": "execute_result"
    }
   ],
   "source": [
    "df.describe()"
   ]
  },
  {
   "cell_type": "code",
   "execution_count": 37,
   "id": "865c3ad5-d9bf-4e77-ae9a-f451ff4e48bf",
   "metadata": {},
   "outputs": [
    {
     "data": {
      "text/plain": [
       "(array([190.,  25.,   9.,   1.,   1.,   0.,   1.,   1.,   0.,   1.]),\n",
       " array([  1. ,  15.1,  29.2,  43.3,  57.4,  71.5,  85.6,  99.7, 113.8,\n",
       "        127.9, 142. ]),\n",
       " <BarContainer object of 10 artists>)"
      ]
     },
     "execution_count": 37,
     "metadata": {},
     "output_type": "execute_result"
    },
    {
     "data": {
      "image/png": "[encoded data removed]",
      "text/plain": [
       "<Figure size 640x480 with 1 Axes>"
      ]
     },
     "metadata": {},
     "output_type": "display_data"
    }
   ],
   "source": [
    "plt.hist(df['area'][df['area'] < 200])"
   ]
  },
  {
   "cell_type": "code",
   "execution_count": null,
   "id": "a423b12e-2fd9-4fdd-a6dd-941dcc4fb30b",
   "metadata": {},
   "outputs": [],
   "source": []
  }
 ],
 "metadata": {
  "kernelspec": {
   "display_name": "conda_python3",
   "language": "python",
   "name": "conda_python3"
  },
  "language_info": {
   "codemirror_mode": {
    "name": "ipython",
    "version": 3
   },
   "file_extension": ".py",
   "mimetype": "text/x-python",
   "name": "python",
   "nbconvert_exporter": "python",
   "pygments_lexer": "ipython3",
   "version": "3.10.16"
  }
 },
 "nbformat": 4,
 "nbformat_minor": 5
}
